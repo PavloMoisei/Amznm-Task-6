{
 "cells": [
  {
   "cell_type": "markdown",
   "id": "02729c97",
   "metadata": {},
   "source": [
    "#### Amazinum. Moisei. Task 6:\n",
    "- SVM hometask with email;\n",
    "- Sklearn SVM for Iris dataset."
   ]
  },
  {
   "cell_type": "markdown",
   "id": "62f11533",
   "metadata": {},
   "source": [
    "#### Load our email text"
   ]
  },
  {
   "cell_type": "code",
   "execution_count": 139,
   "id": "272102cc",
   "metadata": {},
   "outputs": [
    {
     "data": {
      "text/plain": [
       "\"> Anyone knows how much it costs to host a web portal ?\\n>\\nWell, it depends on how many visitors you're expecting.\\nThis can be anywhere from less than 10 bucks a month to a couple of $100. \\nYou should checkout http://www.rackspace.com/ or perhaps Amazon EC2 \\nif youre running something big..\\n\\nTo unsubscribe yourself from this mailing list, send an email to:\\ngroupname-unsubscribe@egroups.com\\n\\n\""
      ]
     },
     "execution_count": 139,
     "metadata": {},
     "output_type": "execute_result"
    }
   ],
   "source": [
    "import os\n",
    "import re\n",
    "import string\n",
    "import numpy as np\n",
    "from nltk.stem import PorterStemmer\n",
    "\n",
    "def get_sample(fn):\n",
    "    with open(fn, 'r') as f:\n",
    "        content = f.read()\n",
    "    return content\n",
    "    \n",
    "fn=  os.path.join('emailSample1.txt')\n",
    "content = get_sample(fn)\n",
    "\n",
    "content"
   ]
  },
  {
   "cell_type": "markdown",
   "id": "0f22ecf9",
   "metadata": {},
   "source": [
    "#### Word tokenization"
   ]
  },
  {
   "cell_type": "code",
   "execution_count": 140,
   "id": "f06a07ea",
   "metadata": {},
   "outputs": [],
   "source": [
    "def word_tokenize(content):\n",
    "    '''\n",
    "    content: str - body of mail \n",
    "    return: list of tokens (str) e.g. ['>', 'Anyone', 'knows', 'how', 'much', 'it', 'costs', 'to', 'host', 'a']\n",
    "    '''\n",
    "    # YOUR_CODE.  Split the content to tokens. You may need re.split()\n",
    "    # START_CODE \n",
    "    tokens= np.array(re.split(r\"\\s+\", content))\n",
    "    # END_CODE \n",
    "    \n",
    "    return tokens"
   ]
  },
  {
   "cell_type": "markdown",
   "id": "8d4762a5",
   "metadata": {},
   "source": [
    "#### Check results"
   ]
  },
  {
   "cell_type": "code",
   "execution_count": 141,
   "id": "5cc7a1fc",
   "metadata": {
    "scrolled": true
   },
   "outputs": [
    {
     "data": {
      "text/plain": [
       "array(['>', 'Anyone', 'knows', 'how', 'much', 'it', 'costs', 'to', 'host',\n",
       "       'a', 'web', 'portal', '?', '>', 'Well,', 'it', 'depends', 'on',\n",
       "       'how', 'many', 'visitors', \"you're\", 'expecting.', 'This', 'can',\n",
       "       'be', 'anywhere', 'from', 'less', 'than', '10', 'bucks', 'a',\n",
       "       'month', 'to', 'a', 'couple', 'of', '$100.', 'You', 'should',\n",
       "       'checkout', 'http://www.rackspace.com/', 'or', 'perhaps', 'Amazon',\n",
       "       'EC2', 'if', 'youre', 'running', 'something', 'big..', 'To',\n",
       "       'unsubscribe', 'yourself', 'from', 'this', 'mailing', 'list,',\n",
       "       'send', 'an', 'email', 'to:', 'groupname-unsubscribe@egroups.com',\n",
       "       ''], dtype='<U33')"
      ]
     },
     "execution_count": 141,
     "metadata": {},
     "output_type": "execute_result"
    }
   ],
   "source": [
    "tokens  = word_tokenize('''> Anyone knows how much it costs to host a web portal ?\\n>\\nWell, it depends on how many visitors you're expecting.\\nThis can be anywhere from less than 10 bucks a month to a couple of $100. \\nYou should checkout http://www.rackspace.com/ or perhaps Amazon EC2 \\nif youre running something big..\\n\\nTo unsubscribe yourself from this mailing list, send an email to:\\ngroupname-unsubscribe@egroups.com\\n\\n''')\n",
    "tokens"
   ]
  },
  {
   "cell_type": "markdown",
   "id": "b0426f37",
   "metadata": {},
   "source": [
    "#### Lower case"
   ]
  },
  {
   "cell_type": "code",
   "execution_count": 142,
   "id": "a0e532f2",
   "metadata": {},
   "outputs": [],
   "source": [
    "import numpy as np\n",
    "\n",
    "def lower_case(tokens):\n",
    "    '''\n",
    "    tokens: ndarry of str\n",
    "    return: ndarry of tokens in lower case (str)\n",
    "    '''\n",
    "    # YOUR_CODE.  Make all tokens in lower case\n",
    "    # START_CODE\n",
    "    tokens = np.array([word.lower() for word in tokens])\n",
    "    # END_CODE \n",
    "   \n",
    "    return tokens"
   ]
  },
  {
   "cell_type": "markdown",
   "id": "7d447206",
   "metadata": {},
   "source": [
    "#### Check results"
   ]
  },
  {
   "cell_type": "code",
   "execution_count": 143,
   "id": "7076a994",
   "metadata": {
    "scrolled": true
   },
   "outputs": [
    {
     "data": {
      "text/plain": [
       "array(['>', 'anyone', 'knows', 'how', 'much', 'it', 'costs', 'to', 'host',\n",
       "       'a', 'web', 'portal', '?', '>', 'well,', 'it', 'depends', 'on',\n",
       "       'how', 'many', 'visitors', \"you're\", 'expecting.', 'this', 'can',\n",
       "       'be', 'anywhere', 'from', 'less', 'than', '10', 'bucks', 'a',\n",
       "       'month', 'to', 'a', 'couple', 'of', '$100.', 'you', 'should',\n",
       "       'checkout', 'http://www.rackspace.com/', 'or', 'perhaps', 'amazon',\n",
       "       'ec2', 'if', 'youre', 'running', 'something', 'big..', 'to',\n",
       "       'unsubscribe', 'yourself', 'from', 'this', 'mailing', 'list,',\n",
       "       'send', 'an', 'email', 'to:', 'groupname-unsubscribe@egroups.com',\n",
       "       ''], dtype='<U33')"
      ]
     },
     "execution_count": 143,
     "metadata": {},
     "output_type": "execute_result"
    }
   ],
   "source": [
    "tokens = lower_case(tokens)\n",
    "tokens"
   ]
  },
  {
   "cell_type": "markdown",
   "id": "b0786ba8",
   "metadata": {},
   "source": [
    "#### Normalize"
   ]
  },
  {
   "cell_type": "code",
   "execution_count": 144,
   "id": "26fd6093",
   "metadata": {},
   "outputs": [],
   "source": [
    "def normalize_tokens(tokens):\n",
    "    '''\n",
    "    tokens: ndarry of str\n",
    "    return: ndarry of tokens replaced with corresponding unified words\n",
    "    '''\n",
    "    # YOUR_CODE.  \n",
    "        # Remove html and other tags\n",
    "        # mark all numbers \"number\"\n",
    "        # mark all  urls as \"httpaddr\"\n",
    "        # mark all emails as \"emailaddr\"\n",
    "        # replace $ as \"dollar\"\n",
    "        # get rid of any punctuation\n",
    "        # Remove any non alphanumeric characters\n",
    "    #  You may  need re.sub()\n",
    "    # START_CODE \n",
    "    tokens = re.sub('<[^<>]+>',' ', str(tokens))\n",
    "\n",
    "    tokens = re.sub('[0-9]+', 'number', str(tokens))\n",
    "                   \n",
    "    tokens = re.sub('(http|https)://[^\\s]*', 'httpaddr', str(tokens))\n",
    "    \n",
    "    tokens = re.sub('[^\\s]+@[^\\s]+', 'emailaddr', str(tokens))\n",
    "    \n",
    "    tokens = re.sub('[$]+', 'dollar', str(tokens))\n",
    "       \n",
    "    for punctuation in string.punctuation:\n",
    "        tokens = tokens.replace(punctuation, ' ')\n",
    "    \n",
    "    # END_CODE \n",
    "\n",
    "    return tokens"
   ]
  },
  {
   "cell_type": "markdown",
   "id": "e01b0a27",
   "metadata": {},
   "source": [
    "#### Check results"
   ]
  },
  {
   "cell_type": "code",
   "execution_count": 145,
   "id": "aeff40cc",
   "metadata": {
    "scrolled": true
   },
   "outputs": [
    {
     "data": {
      "text/plain": [
       "'      anyone   knows   how   much   it   costs   to   host   a   web \\n  portal           well    it   depends   on   how   many   visitors \\n  you re   expecting    this   can   be   anywhere   from   less   than \\n  number   bucks   a   month   to   a   couple   of   dollarnumber    you   should \\n  checkout   httpaddr  or   perhaps   amazon   ecnumber   if \\n  youre   running   something   big     to   unsubscribe   yourself \\n  from   this   mailing   list    send   an   email   to  \\n emailaddr    '"
      ]
     },
     "execution_count": 145,
     "metadata": {},
     "output_type": "execute_result"
    }
   ],
   "source": [
    "tokens = normalize_tokens(tokens)\n",
    "tokens"
   ]
  },
  {
   "cell_type": "markdown",
   "id": "b853bc24",
   "metadata": {},
   "source": [
    "#### Remove zero length tokens"
   ]
  },
  {
   "cell_type": "code",
   "execution_count": 146,
   "id": "44243030",
   "metadata": {},
   "outputs": [],
   "source": [
    "def filter_short_tokens (tokens):\n",
    "    '''\n",
    "    tokens: ndarry of str\n",
    "    return: ndarry of filtered tokens (str)\n",
    "    '''\n",
    "    original_tokens_len = len(tokens)\n",
    "    \n",
    "    # YOUR_CODE. Keep only tokens that lenght >0  \n",
    "    # START_CODE \n",
    "    tokens= np.array(re.compile(r'\\b[^\\W\\d_]{1,}\\b').findall(str(tokens)))\n",
    "    # END_CODE     \n",
    "   \n",
    "    print ('Original len= {}\\nRemaining len= {}'.format(original_tokens_len, len(tokens)))    \n",
    "    \n",
    "    return tokens"
   ]
  },
  {
   "cell_type": "markdown",
   "id": "4aac5525",
   "metadata": {},
   "source": [
    "#### Check results"
   ]
  },
  {
   "cell_type": "code",
   "execution_count": 147,
   "id": "5cd87951",
   "metadata": {
    "scrolled": true
   },
   "outputs": [
    {
     "name": "stdout",
     "output_type": "stream",
     "text": [
      "Original len= 501\n",
      "Remaining len= 62\n"
     ]
    },
    {
     "data": {
      "text/plain": [
       "array(['anyone', 'knows', 'how', 'much', 'it', 'costs', 'to', 'host', 'a',\n",
       "       'web', 'portal', 'well', 'it', 'depends', 'on', 'how', 'many',\n",
       "       'visitors', 'you', 're', 'expecting', 'this', 'can', 'be',\n",
       "       'anywhere', 'from', 'less', 'than', 'number', 'bucks', 'a',\n",
       "       'month', 'to', 'a', 'couple', 'of', 'dollarnumber', 'you',\n",
       "       'should', 'checkout', 'httpaddr', 'or', 'perhaps', 'amazon',\n",
       "       'ecnumber', 'if', 'youre', 'running', 'something', 'big', 'to',\n",
       "       'unsubscribe', 'yourself', 'from', 'this', 'mailing', 'list',\n",
       "       'send', 'an', 'email', 'to', 'emailaddr'], dtype='<U12')"
      ]
     },
     "execution_count": 147,
     "metadata": {},
     "output_type": "execute_result"
    }
   ],
   "source": [
    "tokens = filter_short_tokens(tokens)\n",
    "tokens"
   ]
  },
  {
   "cell_type": "markdown",
   "id": "40a37589",
   "metadata": {},
   "source": [
    "#### Stem tokens"
   ]
  },
  {
   "cell_type": "code",
   "execution_count": 148,
   "id": "490e1f46",
   "metadata": {},
   "outputs": [],
   "source": [
    "def stem_tokens(tokens):\n",
    "    '''\n",
    "    tokens: ndarry of str\n",
    "    return: ndarry of stemmed tokens e.g. array(['anyon', 'know', 'how', 'much', 'it', 'cost', 'to', 'host', 'a',\n",
    "       'web', 'portal', 'well', 'it', 'depend', 'on', 'how', 'mani']...\n",
    "    '''\n",
    "    # YOUR_CODE. replace the tokens by stemmed form. You may need PorterStemmer.stem() \n",
    "    # START_CODE\n",
    "    ps = PorterStemmer()\n",
    "    tokens = np.array([ps.stem(word) for word in tokens])\n",
    "    # END_CODE     \n",
    "   \n",
    "    return tokens"
   ]
  },
  {
   "cell_type": "markdown",
   "id": "028e108e",
   "metadata": {},
   "source": [
    "#### Check results"
   ]
  },
  {
   "cell_type": "code",
   "execution_count": 149,
   "id": "6329ae19",
   "metadata": {
    "scrolled": true
   },
   "outputs": [
    {
     "data": {
      "text/plain": [
       "array(['anyon', 'know', 'how', 'much', 'it', 'cost', 'to', 'host', 'a',\n",
       "       'web', 'portal', 'well', 'it', 'depend', 'on', 'how', 'mani',\n",
       "       'visitor', 'you', 're', 'expect', 'thi', 'can', 'be', 'anywher',\n",
       "       'from', 'less', 'than', 'number', 'buck', 'a', 'month', 'to', 'a',\n",
       "       'coupl', 'of', 'dollarnumb', 'you', 'should', 'checkout',\n",
       "       'httpaddr', 'or', 'perhap', 'amazon', 'ecnumb', 'if', 'your',\n",
       "       'run', 'someth', 'big', 'to', 'unsubscrib', 'yourself', 'from',\n",
       "       'thi', 'mail', 'list', 'send', 'an', 'email', 'to', 'emailaddr'],\n",
       "      dtype='<U10')"
      ]
     },
     "execution_count": 149,
     "metadata": {},
     "output_type": "execute_result"
    }
   ],
   "source": [
    "tokens = stem_tokens(tokens)\n",
    "tokens"
   ]
  },
  {
   "cell_type": "markdown",
   "id": "f2fc6999",
   "metadata": {},
   "source": [
    "#### Vocabulary"
   ]
  },
  {
   "cell_type": "code",
   "execution_count": 150,
   "id": "90c60ede",
   "metadata": {},
   "outputs": [
    {
     "name": "stdout",
     "output_type": "stream",
     "text": [
      "len(vocab)= 1,899\n"
     ]
    },
    {
     "data": {
      "text/plain": [
       "array(['aa', 'ab', 'abil', ..., 'zdnet', 'zero', 'zip'], dtype=object)"
      ]
     },
     "execution_count": 150,
     "metadata": {},
     "output_type": "execute_result"
    }
   ],
   "source": [
    "import pandas as pd\n",
    "\n",
    "def get_vocabulary(fn):\n",
    "    '''\n",
    "    fn: str - full path to file \n",
    "    return: ndarray of str e.g. array(['aa', 'ab', 'abil', ..., 'zdnet', 'zero', 'zip'], dtype=object)\n",
    "    '''\n",
    "    vocab_list = pd.read_table(fn, header=None)\n",
    "    vocab = np.array(vocab_list)[:,1] # first columns is index, select only words column  \n",
    "    print ('len(vocab)= {:,}'.format(len(vocab)))\n",
    "    return vocab\n",
    "\n",
    "fn=  os.path.join('vocab.txt')\n",
    "vocab = get_vocabulary(fn)\n",
    "vocab"
   ]
  },
  {
   "cell_type": "markdown",
   "id": "58668d8a",
   "metadata": {},
   "source": [
    "#### Feature representation"
   ]
  },
  {
   "cell_type": "code",
   "execution_count": 151,
   "id": "728b9966",
   "metadata": {},
   "outputs": [],
   "source": [
    "from itertools import chain\n",
    "def represent_features(tokens,vocab):\n",
    "    '''\n",
    "    tokens: ndarry of str\n",
    "    tokens: ndarry of str\n",
    "    return: ndarry of binary values 1 if word from vocabulary is in mail 0 otherwise\n",
    "    '''\n",
    "    # YOUR_CODE. Compute the array with 1/0 corresponding to is word from vocabulary in mail \n",
    "    # START_CODE \n",
    "    tokens = str(tokens)\n",
    "    vocabulary = str(vocab)\n",
    "    tokens_represented = np.array([1 if tokens in vocabulary else 0 for tokens in vocabulary])\n",
    "    # END_CODE     \n",
    "\n",
    "    print ('{} word(s) from vocab are in the tokens.'.format(np.sum(tokens_represented)))\n",
    "\n",
    "   \n",
    "    return tokens_represented"
   ]
  },
  {
   "cell_type": "markdown",
   "id": "3ef46f1b",
   "metadata": {},
   "source": [
    "#### Check results"
   ]
  },
  {
   "cell_type": "code",
   "execution_count": 152,
   "id": "a0f0b427",
   "metadata": {
    "scrolled": false
   },
   "outputs": [
    {
     "name": "stdout",
     "output_type": "stream",
     "text": [
      "43 word(s) from vocab are in the tokens.\n"
     ]
    },
    {
     "data": {
      "text/plain": [
       "array([1, 1, 1, 1, 1, 1, 1, 1, 1, 1, 1, 1, 1, 1, 1, 1, 1, 1, 1, 1, 1, 1,\n",
       "       1, 1, 1, 1, 1, 1, 1, 1, 1, 1, 1, 1, 1, 1, 1, 1, 1, 1, 1, 1, 1])"
      ]
     },
     "execution_count": 152,
     "metadata": {},
     "output_type": "execute_result"
    }
   ],
   "source": [
    "tokens_represented = represent_features(tokens, vocab)\n",
    "tokens_represented"
   ]
  },
  {
   "cell_type": "markdown",
   "id": "f3572806",
   "metadata": {},
   "source": [
    "#### Composing all steps of preprocessing"
   ]
  },
  {
   "cell_type": "code",
   "execution_count": 153,
   "id": "5f8b3df3",
   "metadata": {},
   "outputs": [],
   "source": [
    "def preprocess (content,vocab):\n",
    "    '''\n",
    "    content: str - body of mail \n",
    "    vocab: ndarray of str - list of considered words \n",
    "    '''\n",
    "    # YOUR_CODE. Compute the array with 1/0 corresponding to is word from vocabulary in mail \n",
    "    # START_CODE \n",
    "\n",
    "    # tokenize content    \n",
    "    tokens  = np.array(re.split(r\"\\s+\", content))\n",
    "    \n",
    "    # make lower case\n",
    "    tokens = np.array([word.lower() for word in tokens])\n",
    "\n",
    "    # normalize tokens\n",
    "    tokens = tokens = re.sub('<[^<>]+>',' ', str(tokens))\n",
    "\n",
    "    tokens = re.sub('[0-9]+', 'number', str(tokens))\n",
    "                   \n",
    "    tokens = re.sub('(http|https)://[^\\s]*', 'httpaddr', str(tokens))\n",
    "    \n",
    "    tokens = re.sub('[^\\s]+@[^\\s]+', 'emailaddr', str(tokens))\n",
    "    \n",
    "    tokens = re.sub('[$]+', 'dollar', str(tokens))\n",
    "       \n",
    "    for punctuation in string.punctuation:\n",
    "        tokens = tokens.replace(punctuation, ' ')\n",
    "\n",
    "    # remove zero words\n",
    "    tokens = np.array(re.compile(r'\\b[^\\W\\d_]{1,}\\b').findall(str(tokens)))\n",
    "    \n",
    "    # stem words\n",
    "    original_tokens_len = len(tokens)\n",
    "    \n",
    "    ps = PorterStemmer()\n",
    "    \n",
    "    tokens = np.array([ps.stem(word) for word in tokens])\n",
    "    \n",
    "    print ('Original len= {}\\nRemaining len= {}'.format(original_tokens_len, len(tokens)))\n",
    "    \n",
    "    # convert to binary array of features\n",
    "    tokens = str(tokens)\n",
    "    vocabulary = str(vocab)\n",
    "    \n",
    "    tokens_represented = np.array([1 if tokens in vocabulary else 0 for tokens in vocabulary])\n",
    "    \n",
    "    print ('{} word(s) from vocab are in the tokens.'.format(np.sum(tokens_represented)))\n",
    "    # END_CODE     \n",
    "    \n",
    "    return tokens_represented"
   ]
  },
  {
   "cell_type": "markdown",
   "id": "417d46e2",
   "metadata": {},
   "source": [
    "#### Check results"
   ]
  },
  {
   "cell_type": "code",
   "execution_count": 154,
   "id": "7d42014a",
   "metadata": {
    "scrolled": false
   },
   "outputs": [
    {
     "name": "stdout",
     "output_type": "stream",
     "text": [
      "Original len= 62\n",
      "Remaining len= 62\n",
      "43 word(s) from vocab are in the tokens.\n"
     ]
    },
    {
     "data": {
      "text/plain": [
       "array([1, 1, 1, 1, 1, 1, 1, 1, 1, 1, 1, 1, 1, 1, 1, 1, 1, 1, 1, 1, 1, 1,\n",
       "       1, 1, 1, 1, 1, 1, 1, 1, 1, 1, 1, 1, 1, 1, 1, 1, 1, 1, 1, 1, 1])"
      ]
     },
     "execution_count": 154,
     "metadata": {},
     "output_type": "execute_result"
    }
   ],
   "source": [
    "preprocess(content,vocab)"
   ]
  },
  {
   "cell_type": "markdown",
   "id": "a338615c",
   "metadata": {},
   "source": [
    "#### Training and test sets"
   ]
  },
  {
   "cell_type": "code",
   "execution_count": 155,
   "id": "db79140a",
   "metadata": {},
   "outputs": [
    {
     "name": "stdout",
     "output_type": "stream",
     "text": [
      "X_train.shape= {} (4000, 1899)\n",
      "y_train.shape= {} (4000,)\n",
      "X_test.shape= {} (1000, 1899)\n",
      "y_test.shape= {} (1000,)\n",
      "Sample with index  =0: \n",
      "[0 0 0 ... 0 0 0]\n"
     ]
    }
   ],
   "source": [
    "from scipy.io import loadmat\n",
    "\n",
    "fn=  os.path.join('spamTrain.mat')\n",
    "\n",
    "mat= loadmat(fn)\n",
    "X_train= mat['X']\n",
    "y_train= mat['y'].ravel()\n",
    "\n",
    "print ('X_train.shape= {}',X_train.shape)\n",
    "print ('y_train.shape= {}',y_train.shape)\n",
    "\n",
    "fn=  os.path.join('spamTest.mat')\n",
    "mat= loadmat(fn)\n",
    "X_test = mat['Xtest']\n",
    "y_test = mat['ytest'].ravel() \n",
    "\n",
    "print ('X_test.shape= {}',X_test.shape)\n",
    "print ('y_test.shape= {}',y_test.shape)\n",
    "index = 0 \n",
    "print ('Sample with index  ={}: \\n{}'.format(index, X_train[index]))"
   ]
  },
  {
   "cell_type": "markdown",
   "id": "9f48b0f9",
   "metadata": {},
   "source": [
    "#### Training the model"
   ]
  },
  {
   "cell_type": "code",
   "execution_count": 156,
   "id": "07b2abec",
   "metadata": {},
   "outputs": [
    {
     "name": "stdout",
     "output_type": "stream",
     "text": [
      "Score train= 0.99975\n",
      "Score test= 0.992\n"
     ]
    }
   ],
   "source": [
    "from sklearn.svm import SVC \n",
    "from sklearn.svm import LinearSVC\n",
    "\n",
    "C = .1\n",
    "clf= LinearSVC(C=C)\n",
    "clf.fit(X_train,y_train)\n",
    "print ('Score train= {}'.format(clf.score(X_train,y_train)))\n",
    "print ('Score test= {}'.format(clf.score(X_test,y_test)))"
   ]
  },
  {
   "cell_type": "markdown",
   "id": "bef0b3d1",
   "metadata": {},
   "source": [
    "#### Determining most spam contributors"
   ]
  },
  {
   "cell_type": "code",
   "execution_count": 157,
   "id": "2570c78e",
   "metadata": {},
   "outputs": [
    {
     "name": "stdout",
     "output_type": "stream",
     "text": [
      "clf.intercept_=[0.1958353]\n",
      "clf.coef_=[[-0.00420465  0.02054861  0.04372872 ... -0.08422264 -0.00846158\n",
      "   0.05294408]]\n"
     ]
    }
   ],
   "source": [
    "print('clf.intercept_={}'.format(clf.intercept_))\n",
    "print ('clf.coef_={}'.format(clf.coef_))\n",
    "\n",
    "# YOUR_CODE. Compute top 20 largest coeficients and return the corresponding 20 words from vocabulary\n",
    "# START_CODE\n",
    "df_vocab = pd.read_csv('vocab.txt', sep='\\t', header=None)\n",
    "df_vocab.columns = ['index', 'word']\n",
    "df_vocab = df_vocab.drop(['index'], axis=1).reset_index(drop=True)\n",
    "df_vocab['weights'] = clf.coef_[0,:]\n",
    "\n",
    "top_spam_contributors = np.array(df_vocab.sort_values(by='weights', ascending=False).head(20))\n",
    "# END_CODE  "
   ]
  },
  {
   "cell_type": "markdown",
   "id": "184fd353",
   "metadata": {},
   "source": [
    "#### Check result"
   ]
  },
  {
   "cell_type": "code",
   "execution_count": 158,
   "id": "166c33c7",
   "metadata": {
    "scrolled": false
   },
   "outputs": [
    {
     "name": "stdout",
     "output_type": "stream",
     "text": [
      "[['our' 0.42166499558247716]\n",
      " ['remov' 0.3871731388512784]\n",
      " ['click' 0.38705984130119514]\n",
      " ['basenumb' 0.3466173138582637]\n",
      " ['guarante' 0.3416855492998358]\n",
      " ['visit' 0.3030278948326087]\n",
      " ['bodi' 0.2635236503953449]\n",
      " ['will' 0.24439391718628448]\n",
      " ['numberb' 0.2387949622737645]\n",
      " ['price' 0.23419912406923382]\n",
      " ['dollar' 0.23231486460089443]\n",
      " ['nbsp' 0.2270807275942906]\n",
      " ['below' 0.2231989759666599]\n",
      " ['lo' 0.21999370032178145]\n",
      " ['most' 0.2145483795316197]\n",
      " ['send' 0.20345501341409955]\n",
      " ['dollarnumb' 0.20254074100663033]\n",
      " ['credit' 0.20122161159054716]\n",
      " ['wi' 0.20109862745951967]\n",
      " ['hour' 0.2009123839650638]]\n"
     ]
    }
   ],
   "source": [
    "print (top_spam_contributors)"
   ]
  },
  {
   "cell_type": "markdown",
   "id": "9771867d",
   "metadata": {},
   "source": [
    "#### Use model for prediction"
   ]
  },
  {
   "cell_type": "code",
   "execution_count": 159,
   "id": "1993a926",
   "metadata": {},
   "outputs": [
    {
     "name": "stdout",
     "output_type": "stream",
     "text": [
      "C:\\Users\\Evolu\\Amazinum. Task 6. SVM\n"
     ]
    }
   ],
   "source": [
    "print(os.getcwd())"
   ]
  },
  {
   "cell_type": "markdown",
   "id": "a52f2230",
   "metadata": {},
   "source": [
    "#### Для того, аби перевірити на спам Emails, нам необхідно мати три основні характеристики:\n",
    "- Самі Emails;\n",
    "- Наш preprocess;\n",
    "- І характеристика, на яку опиратимуться чи це спам чи ні (top_spam_contributors)"
   ]
  },
  {
   "cell_type": "markdown",
   "id": "be4fdad8",
   "metadata": {},
   "source": [
    "#### Не зміг поки відтворити це."
   ]
  },
  {
   "cell_type": "code",
   "execution_count": 160,
   "id": "9c3e99f3",
   "metadata": {},
   "outputs": [
    {
     "ename": "TypeError",
     "evalue": "'numpy.ndarray' object is not callable",
     "output_type": "error",
     "traceback": [
      "\u001b[1;31m---------------------------------------------------------------------------\u001b[0m",
      "\u001b[1;31mTypeError\u001b[0m                                 Traceback (most recent call last)",
      "\u001b[1;32m~\\AppData\\Local\\Temp\\ipykernel_11940\\4181128963.py\u001b[0m in \u001b[0;36m<module>\u001b[1;34m\u001b[0m\n\u001b[0;32m      2\u001b[0m     \u001b[0mfn\u001b[0m\u001b[1;33m=\u001b[0m  \u001b[0mos\u001b[0m\u001b[1;33m.\u001b[0m\u001b[0mpath\u001b[0m\u001b[1;33m.\u001b[0m\u001b[0mjoin\u001b[0m\u001b[1;33m(\u001b[0m\u001b[0msfn\u001b[0m\u001b[1;33m)\u001b[0m\u001b[1;33m\u001b[0m\u001b[1;33m\u001b[0m\u001b[0m\n\u001b[0;32m      3\u001b[0m     \u001b[0mcontent\u001b[0m \u001b[1;33m=\u001b[0m \u001b[0mget_sample\u001b[0m\u001b[1;33m(\u001b[0m\u001b[0mfn\u001b[0m\u001b[1;33m)\u001b[0m\u001b[1;33m\u001b[0m\u001b[1;33m\u001b[0m\u001b[0m\n\u001b[1;32m----> 4\u001b[1;33m     \u001b[0mx\u001b[0m \u001b[1;33m=\u001b[0m \u001b[0mtokens_represented\u001b[0m\u001b[1;33m(\u001b[0m\u001b[0mtop_spam_contributors\u001b[0m\u001b[1;33m)\u001b[0m\u001b[1;33m\u001b[0m\u001b[1;33m\u001b[0m\u001b[0m\n\u001b[0m\u001b[0;32m      5\u001b[0m     \u001b[1;31m# YOUR_CODE.  Preprocess the sample and get prediction 0 or 1 (1 is spam)\u001b[0m\u001b[1;33m\u001b[0m\u001b[1;33m\u001b[0m\u001b[1;33m\u001b[0m\u001b[0m\n\u001b[0;32m      6\u001b[0m     \u001b[1;31m# START_CODE\u001b[0m\u001b[1;33m\u001b[0m\u001b[1;33m\u001b[0m\u001b[1;33m\u001b[0m\u001b[0m\n",
      "\u001b[1;31mTypeError\u001b[0m: 'numpy.ndarray' object is not callable"
     ]
    }
   ],
   "source": [
    "for sfn in ['emailSample1.txt', 'emailSample2.txt', 'spamSample1.txt', 'spamSample2.txt']:\n",
    "    fn=  os.path.join(sfn)\n",
    "    content = get_sample(fn)    \n",
    "    x = tokens_represented(top_spam_contributors)\n",
    "    # YOUR_CODE.  Preprocess the sample and get prediction 0 or 1 (1 is spam)\n",
    "    # START_CODE \n",
    "    prediction = clf.predict(x.reshape(1, -1))\n",
    "    # END_CODE    \n",
    "    \n",
    "    print ('{} is {}\\n'.format(sfn, ('Not Spam','Spam')[prediction]))\n",
    "\n",
    "print ('Latter sample:\\n{1}\\n{0}\\n{1}'.format(content, '='*50))"
   ]
  },
  {
   "cell_type": "markdown",
   "id": "75a19735",
   "metadata": {},
   "source": [
    "#### Load iris dataset"
   ]
  },
  {
   "cell_type": "code",
   "execution_count": 23,
   "id": "e6aca3dc",
   "metadata": {},
   "outputs": [
    {
     "name": "stdout",
     "output_type": "stream",
     "text": [
      "data contains: dict_keys(['data', 'target', 'frame', 'target_names', 'DESCR', 'feature_names', 'filename', 'data_module'])\n"
     ]
    }
   ],
   "source": [
    "import pandas as pd \n",
    "import numpy as np \n",
    "np.random.seed = 2021\n",
    "from sklearn.datasets import load_iris\n",
    "iris = load_iris()\n",
    "print ('data contains:',iris.keys())\n",
    "X, y, labels, feature_names  = iris.data, iris.target, iris.target_names, iris['feature_names']\n",
    "df_iris= pd.DataFrame(X, columns= feature_names) \n",
    "df_iris['label'] =  y\n",
    "features_dict = {k:v for k,v in  enumerate(labels)}\n",
    "df_iris['label_names'] = df_iris.label.apply(lambda x: features_dict[x])\n",
    "\n",
    "from sklearn.model_selection import train_test_split\n",
    "X_train,X_test,y_train,y_test=train_test_split(X,y,test_size=0.2)"
   ]
  },
  {
   "cell_type": "markdown",
   "id": "00c9d9bc",
   "metadata": {},
   "source": [
    "#### SVM linear kernel for iris"
   ]
  },
  {
   "cell_type": "code",
   "execution_count": 24,
   "id": "4b34c9b9",
   "metadata": {},
   "outputs": [
    {
     "name": "stdout",
     "output_type": "stream",
     "text": [
      "train accuracy= 97.500%\n"
     ]
    }
   ],
   "source": [
    "from sklearn.svm import SVC\n",
    "clf = LinearSVC(C=1, max_iter= 10000).fit(X_train,y_train)\n",
    "print(\"train accuracy= {:.3%}\".format(clf.score (X_train,y_train)))"
   ]
  },
  {
   "cell_type": "markdown",
   "id": "384acda1",
   "metadata": {},
   "source": [
    "#### Sklearn SVC RBF Kernel"
   ]
  },
  {
   "cell_type": "code",
   "execution_count": 26,
   "id": "918eec4a",
   "metadata": {},
   "outputs": [
    {
     "name": "stdout",
     "output_type": "stream",
     "text": [
      "train accuracy= 97.500%\n"
     ]
    }
   ],
   "source": [
    "gamma=1\n",
    "clf = SVC(C=1, gamma=gamma).fit(X_train,y_train) # rbf is default \n",
    "print(\"train accuracy= {:.3%}\".format(clf.score (X_train,y_train)))"
   ]
  },
  {
   "cell_type": "markdown",
   "id": "a9647809",
   "metadata": {},
   "source": [
    "#### Sklearn SVC Polynomial Kernel"
   ]
  },
  {
   "cell_type": "code",
   "execution_count": 27,
   "id": "2aaa9b2e",
   "metadata": {},
   "outputs": [
    {
     "name": "stdout",
     "output_type": "stream",
     "text": [
      "train accuracy= 98.333%\n"
     ]
    }
   ],
   "source": [
    "degree= 3\n",
    "clf = SVC(kernel= 'poly').fit(X_train,y_train) # default=3)\n",
    "print(\"train accuracy= {:.3%}\".format(clf.score (X_train,y_train)))"
   ]
  },
  {
   "cell_type": "markdown",
   "id": "443b6ab0",
   "metadata": {},
   "source": [
    "#### Trying to visualize different SVM trainings"
   ]
  },
  {
   "cell_type": "code",
   "execution_count": 28,
   "id": "d8bf364b",
   "metadata": {},
   "outputs": [
    {
     "name": "stderr",
     "output_type": "stream",
     "text": [
      "C:\\Users\\Evolu\\AppData\\Local\\Programs\\Python\\Python37\\lib\\site-packages\\sklearn\\svm\\_base.py:1208: ConvergenceWarning: Liblinear failed to converge, increase the number of iterations.\n",
      "  ConvergenceWarning,\n"
     ]
    },
    {
     "data": {
      "image/png": "[encoded data removed]",
      "text/plain": [
       "<Figure size 640x480 with 4 Axes>"
      ]
     },
     "metadata": {},
     "output_type": "display_data"
    }
   ],
   "source": [
    "import numpy as np\n",
    "import matplotlib.pyplot as plt\n",
    "from sklearn import svm, datasets\n",
    "\n",
    "# import data\n",
    "iris = datasets.load_iris()\n",
    "X = iris.data[:, :2]  # we only take the first two features. We could\n",
    "                      # avoid this ugly slicing by using a two-dim dataset\n",
    "y = iris.target\n",
    "\n",
    "h = .02  # step size in the mesh\n",
    "\n",
    "# we create an instance of SVM and fit out data. We do not scale our\n",
    "# data since we want to plot the support vectors\n",
    "C = 1.0  # SVM regularization parameter\n",
    "svc = svm.SVC(kernel='linear', C=C).fit(X, y)\n",
    "rbf_svc = svm.SVC(kernel='rbf', gamma=1, C=C).fit(X, y)\n",
    "poly_svc = svm.SVC(kernel='poly', degree=3, C=C).fit(X, y)\n",
    "lin_svc = svm.LinearSVC(C=C).fit(X, y)\n",
    "\n",
    "# create a mesh to plot in\n",
    "x_min, x_max = X[:, 0].min() - 1, X[:, 0].max() + 1\n",
    "y_min, y_max = X[:, 1].min() - 1, X[:, 1].max() + 1\n",
    "xx, yy = np.meshgrid(np.arange(x_min, x_max, h),\n",
    "                     np.arange(y_min, y_max, h))\n",
    "\n",
    "# title for the plots\n",
    "titles = ['SVC with linear kernel',\n",
    "          'LinearSVC (linear)',\n",
    "          'SVC with RBF (gamma = 1)',\n",
    "          'SVC with polynomial (degree = 3)']\n",
    "\n",
    "\n",
    "for i, clf in enumerate((svc, lin_svc, rbf_svc, poly_svc)):\n",
    "    # Plot the decision boundary. For that, we will assign a color to each\n",
    "    # point in the mesh [x_min, x_max]x[y_min, y_max].\n",
    "    plt.subplot(2, 2, i + 1)\n",
    "    plt.subplots_adjust(wspace=0.4, hspace=0.4)\n",
    "\n",
    "    Z = clf.predict(np.c_[xx.ravel(), yy.ravel()])\n",
    "\n",
    "    # Put the result into a color plot\n",
    "    Z = Z.reshape(xx.shape)\n",
    "    plt.contourf(xx, yy, Z, cmap=plt.cm.coolwarm, alpha=0.8)\n",
    "\n",
    "    # Plot also the training points\n",
    "    plt.scatter(X[:, 0], X[:, 1], c=y, cmap=plt.cm.coolwarm)\n",
    "    plt.xlabel('Feature 1')\n",
    "    plt.ylabel('Feature 2')\n",
    "    plt.xlim(xx.min(), xx.max())\n",
    "    plt.ylim(yy.min(), yy.max())\n",
    "    plt.xticks(())\n",
    "    plt.yticks(())\n",
    "    plt.title(titles[i])\n",
    "\n",
    "plt.show()"
   ]
  }
 ],
 "metadata": {
  "kernelspec": {
   "display_name": "Python 3 (ipykernel)",
   "language": "python",
   "name": "python3"
  },
  "language_info": {
   "codemirror_mode": {
    "name": "ipython",
    "version": 3
   },
   "file_extension": ".py",
   "mimetype": "text/x-python",
   "name": "python",
   "nbconvert_exporter": "python",
   "pygments_lexer": "ipython3",
   "version": "3.7.1"
  }
 },
 "nbformat": 4,
 "nbformat_minor": 5
}
